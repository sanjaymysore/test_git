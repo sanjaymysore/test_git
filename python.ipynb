{
 "cells": [
  {
   "cell_type": "markdown",
   "id": "05c1f652",
   "metadata": {},
   "source": [
    "# Introduction to Python Variables: Assigning Values with Different Data Types"
   ]
  },
  {
   "cell_type": "code",
   "execution_count": null,
   "id": "dbe1e398",
   "metadata": {},
   "outputs": [],
   "source": [
    "Objective:\n",
    "1. Assign a string variable and print it.\n",
    "2. Assign an integer variable and print it.\n",
    "3. Assign a float variable and print it.\n",
    "4. Use a boolean variable to store True or False values based on a condition.\n",
    "5. Store multiple values in a list variable.\n",
    "6. Use a dictionary to store key-value pairs for more complex data.\n",
    "7 Assign multiple variables at once for concise code."
   ]
  },
  {
   "cell_type": "markdown",
   "id": "4f50ff08",
   "metadata": {},
   "source": [
    "1: Create and Assign String Variables\n",
    "\n",
    "A string is a sequence of characters. Here, city_name is assigned the string \"City A\" and printed."
   ]
  },
  {
   "cell_type": "code",
   "execution_count": 1,
   "id": "e85691dd",
   "metadata": {},
   "outputs": [
    {
     "name": "stdout",
     "output_type": "stream",
     "text": [
      "City Name: City A\n"
     ]
    }
   ],
   "source": [
    "# Create a string variable\n",
    "city_name = \"City A\"\n",
    "\n",
    "# Print the value of the string variable\n",
    "print(f\"City Name: {city_name}\")\n"
   ]
  },
  {
   "cell_type": "markdown",
   "id": "849e72c6",
   "metadata": {},
   "source": [
    "2: Create and Assign Integer Variables\n",
    "\n",
    "An integer is a whole number without decimals. We assign the integer 25 to the variable temperature and print it."
   ]
  },
  {
   "cell_type": "code",
   "execution_count": 2,
   "id": "073a2543",
   "metadata": {},
   "outputs": [
    {
     "name": "stdout",
     "output_type": "stream",
     "text": [
      "Temperature: 25°C\n"
     ]
    }
   ],
   "source": [
    "# Create an integer variable for temperature\n",
    "temperature = 25\n",
    "\n",
    "# Print the value of the integer variable\n",
    "print(f\"Temperature: {temperature}°C\")\n"
   ]
  },
  {
   "cell_type": "markdown",
   "id": "14b4de5f",
   "metadata": {},
   "source": [
    "3: Create and Assign Float (Decimal) Variables\n",
    "    \n",
    "A float is a number that can have a decimal point. Here, carbon_footprint is assigned a floating-point value of 500.75 and printed."
   ]
  },
  {
   "cell_type": "code",
   "execution_count": 3,
   "id": "f138020b",
   "metadata": {},
   "outputs": [
    {
     "name": "stdout",
     "output_type": "stream",
     "text": [
      "Carbon Footprint: 500.75 kg CO2\n"
     ]
    }
   ],
   "source": [
    "# Create a float variable for carbon footprint\n",
    "carbon_footprint = 500.75  # kg CO2\n",
    "\n",
    "# Print the value of the float variable\n",
    "print(f\"Carbon Footprint: {carbon_footprint} kg CO2\")\n"
   ]
  },
  {
   "cell_type": "markdown",
   "id": "b8054eea",
   "metadata": {},
   "source": [
    "4: Create and Assign Boolean Variables\n",
    "    \n",
    "A boolean can be either True or False. \n",
    "Here, the variable is_sustainable is assigned based on whether the carbon_footprint is less than 400, which is False in this case."
   ]
  },
  {
   "cell_type": "code",
   "execution_count": 4,
   "id": "e77d8f20",
   "metadata": {},
   "outputs": [
    {
     "name": "stdout",
     "output_type": "stream",
     "text": [
      "Is the city sustainable? False\n"
     ]
    }
   ],
   "source": [
    "# Create a boolean variable to indicate if the city is sustainable\n",
    "is_sustainable = carbon_footprint < 400  # This will be False because 500.75 > 400\n",
    "\n",
    "# Print the value of the boolean variable\n",
    "print(f\"Is the city sustainable? {is_sustainable}\")\n"
   ]
  },
  {
   "cell_type": "markdown",
   "id": "4618aba5",
   "metadata": {},
   "source": [
    "5: Create and Assign List Variables\n",
    "    \n",
    "A list is a collection of items (values) stored in a single variable. Here, weekly_temperatures contains a list of integers representing temperatures recorded over a week."
   ]
  },
  {
   "cell_type": "code",
   "execution_count": 5,
   "id": "364fb489",
   "metadata": {},
   "outputs": [
    {
     "name": "stdout",
     "output_type": "stream",
     "text": [
      "Weekly Temperatures: [25, 27, 28, 26, 24, 30, 29]\n"
     ]
    }
   ],
   "source": [
    "# Create a list variable for temperatures recorded in the city over a week\n",
    "weekly_temperatures = [25, 27, 28, 26, 24, 30, 29]\n",
    "\n",
    "# Print the list\n",
    "print(f\"Weekly Temperatures: {weekly_temperatures}\")\n"
   ]
  },
  {
   "cell_type": "markdown",
   "id": "fcf35d43",
   "metadata": {},
   "source": [
    "6: Create and Assign Dictionary Variables\n",
    "    \n",
    "A dictionary stores data in key-value pairs. Here, city_data holds information about the city, including its name, temperature, carbon footprint, and sustainability status."
   ]
  },
  {
   "cell_type": "code",
   "execution_count": 6,
   "id": "bd5260ba",
   "metadata": {},
   "outputs": [
    {
     "name": "stdout",
     "output_type": "stream",
     "text": [
      "City Data: {'name': 'City A', 'temperature': 25, 'carbon_footprint': 500.75, 'is_sustainable': False}\n"
     ]
    }
   ],
   "source": [
    "# Create a dictionary variable to store city data\n",
    "city_data = {\n",
    "    \"name\": \"City A\",\n",
    "    \"temperature\": 25,\n",
    "    \"carbon_footprint\": 500.75,\n",
    "    \"is_sustainable\": False\n",
    "}\n",
    "\n",
    "# Print the dictionary\n",
    "print(f\"City Data: {city_data}\")\n"
   ]
  },
  {
   "cell_type": "markdown",
   "id": "d961e959",
   "metadata": {},
   "source": [
    "7: Assigning Multiple Variables at Once\n",
    "    \n",
    "Python allows assigning multiple variables in one line. Here, we assign values to city_name, temperature, and carbon_footprint at the same time."
   ]
  },
  {
   "cell_type": "code",
   "execution_count": 7,
   "id": "b706eb76",
   "metadata": {},
   "outputs": [
    {
     "name": "stdout",
     "output_type": "stream",
     "text": [
      "City Name: City B, Temperature: 30°C, Carbon Footprint: 350.5 kg CO2\n"
     ]
    }
   ],
   "source": [
    "# Assign multiple variables at once\n",
    "city_name, temperature, carbon_footprint = \"City B\", 30, 350.50\n",
    "\n",
    "# Print the values\n",
    "print(f\"City Name: {city_name}, Temperature: {temperature}°C, Carbon Footprint: {carbon_footprint} kg CO2\")\n"
   ]
  },
  {
   "cell_type": "markdown",
   "id": "886b9ebd",
   "metadata": {},
   "source": [
    "### Conclusion:\n",
    "\n",
    "    Objective 1: Assign a string variable and print it.\n",
    "    Objective 2: Assign an integer variable and print it.\n",
    "    Objective 3: Assign a float variable and print it.\n",
    "    Objective 4: Use a boolean variable to store True or False values based on a condition.\n",
    "    Objective 5: Store multiple values in a list variable.\n",
    "    Objective 6: Use a dictionary to store key-value pairs for more complex data.\n",
    "    Objective 7: Assign multiple variables at once for concise code.\n",
    "\n",
    "These code examples in python show us how to create and assign values to different data types, with simple comments explaining each step."
   ]
  }
 ],
 "metadata": {
  "kernelspec": {
   "display_name": "Python 3 (ipykernel)",
   "language": "python",
   "name": "python3"
  },
  "language_info": {
   "codemirror_mode": {
    "name": "ipython",
    "version": 3
   },
   "file_extension": ".py",
   "mimetype": "text/x-python",
   "name": "python",
   "nbconvert_exporter": "python",
   "pygments_lexer": "ipython3",
   "version": "3.9.13"
  }
 },
 "nbformat": 4,
 "nbformat_minor": 5
}
